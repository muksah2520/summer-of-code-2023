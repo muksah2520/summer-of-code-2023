{
  "nbformat": 4,
  "nbformat_minor": 0,
  "metadata": {
    "colab": {
      "provenance": [],
      "gpuType": "T4",
      "authorship_tag": "ABX9TyP3a86ZmArCIRHhm0LFibNc",
      "include_colab_link": true
    },
    "kernelspec": {
      "name": "python3",
      "display_name": "Python 3"
    },
    "language_info": {
      "name": "python"
    },
    "accelerator": "GPU"
  },
  "cells": [
    {
      "cell_type": "markdown",
      "metadata": {
        "id": "view-in-github",
        "colab_type": "text"
      },
      "source": [
        "<a href=\"https://colab.research.google.com/github/muksah2520/summer-of-code-2023/blob/main/Week1.ipynb\" target=\"_parent\"><img src=\"https://colab.research.google.com/assets/colab-badge.svg\" alt=\"Open In Colab\"/></a>"
      ]
    },
    {
      "cell_type": "code",
      "source": [
        "import pandas as pd\n",
        "import numpy as np\n",
        "from sklearn import linear_model\n",
        "from sklearn.model_selection import train_test_split\n",
        "from sklearn.preprocessing import OneHotEncoder\n",
        "from sklearn.compose import ColumnTransformer\n",
        "from sklearn.metrics import r2_score\n",
        "\n",
        "df=pd.read_csv('train2.csv')\n",
        "#one_hot_encoded_data = pd.get_dummies(df, columns = ['  ', '  '])\n",
        "#print(one_hot_encoded_data)\n",
        "X=df.drop(\"SalePrice\",axis=1)\n",
        "y=df[\"SalePrice\"]\n",
        "\n",
        "ct = ColumnTransformer(transformers=[('encoder', OneHotEncoder(drop ='first'), [\n",
        "'MSSubClass','MSZoning','Street','Alley','LotShape','LandContour','Utilities','LotConfig','LandSlope','Neighborhood','Condition1','Condition2','BldgType','HouseStyle','OverallQual','OverallCond','YearBuilt','YearRemodAdd','RoofStyle','RoofMatl','Exterior1st','Exterior2nd',\t'MasVnrType',\t'ExterQual','ExterCond','Foundation','BsmtQual','BsmtCond','BsmtExposure','BsmtFinType1',\t'BsmtFinType2',\t'Heating','HeatingQC','CentralAir',\t'Electrical',\t'BsmtFullBath','BsmtHalfBath','FullBath','HalfBath','BedroomAbvGr','KitchenAbvGr','KitchenQual','TotRmsAbvGrd','Functional','Fireplaces','FireplaceQu','GarageType','GarageYrBlt','GarageFinish','GarageCars','GarageQual',\t'GarageCond',\t'PavedDrive',\t'PoolQC',\t'Fence'\t,'MiscFeature',\t'MoSold',\t'YrSold',\t'SaleType',\t'SaleCondition'\n",
        "])], remainder='passthrough')\n",
        "#X = np.array(ct.fit_transform(X))\n",
        "\n",
        "X= ct.fit_transform(X)\n",
        "\n",
        "X_train,X_test,y_train,y_test=train_test_split(X,y,test_size=0.2,random_state=4,shuffle=True)\n",
        "reg=linear_model.LinearRegression()\n",
        "reg.fit(X_train, y_train)\n",
        "y_pred = reg.predict(X_test)\n",
        "\n",
        "\n",
        "print(y_pred[0])\n",
        "print(y_pred[1])\n",
        "print(y_pred[2])\n",
        "print(y_pred[3])\n",
        "print(y_pred[4])\n",
        "print((y_test))\n",
        "print(\"Mean Square Error\",np.mean((y_pred-y_test)**2))\n",
        "print('R2 score = ',r2_score(y_test,y_pred))\n"
      ],
      "metadata": {
        "id": "N4QKpMyJ-HjZ",
        "colab": {
          "base_uri": "https://localhost:8080/"
        },
        "outputId": "7d4bf4af-fb5c-4ac4-ae88-3433f47531be"
      },
      "execution_count": 68,
      "outputs": [
        {
          "output_type": "stream",
          "name": "stdout",
          "text": [
            "234996.85566418763\n",
            "213991.6880125869\n",
            "168642.7015235682\n",
            "125602.2575164685\n",
            "149259.42440554206\n",
            "280     228500\n",
            "1365    216000\n",
            "132     150750\n",
            "357     134000\n",
            "438      90350\n",
            "         ...  \n",
            "1006    163500\n",
            "247     140000\n",
            "759     290000\n",
            "489      86000\n",
            "902     180000\n",
            "Name: SalePrice, Length: 292, dtype: int64\n",
            "Mean Square Error 989633496.6614715\n",
            "R2 score =  0.8217523160972663\n"
          ]
        }
      ]
    },
    {
      "cell_type": "code",
      "source": [],
      "metadata": {
        "id": "K4dP4bnToahM"
      },
      "execution_count": null,
      "outputs": []
    }
  ]
}